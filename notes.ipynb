{
 "cells": [
  {
   "cell_type": "code",
   "execution_count": 1,
   "metadata": {},
   "outputs": [
    {
     "name": "stdout",
     "output_type": "stream",
     "text": [
      "1\n",
      "3\n",
      "bye\n"
     ]
    }
   ],
   "source": [
    "# immutable tuple\n",
    "tup = (1,2,3)\n",
    "\n",
    "# get first element\n",
    "print(tup[0])\n",
    "\n",
    "# unpack values\n",
    "a,b,c = tup\n",
    "print(c)\n",
    "\n",
    "# dict\n",
    "di = {'a':'hi','b':'bye'}\n",
    "print(di['b'])"
   ]
  },
  {
   "cell_type": "code",
   "execution_count": 2,
   "metadata": {},
   "outputs": [
    {
     "name": "stdout",
     "output_type": "stream",
     "text": [
      "hi\n",
      "bye\n",
      "hi\n",
      "bye\n"
     ]
    }
   ],
   "source": [
    "# iterate over keys\n",
    "# for key in di:\n",
    "for key in di.keys():\n",
    "    print(di[key])\n",
    "    \n",
    "for val in di.values():\n",
    "    print(val)\n",
    "    \n",
    "# continue to go to next iterative\n",
    "# break to exit loop"
   ]
  },
  {
   "cell_type": "code",
   "execution_count": 3,
   "metadata": {},
   "outputs": [
    {
     "data": {
      "text/plain": [
       "12"
      ]
     },
     "execution_count": 3,
     "metadata": {},
     "output_type": "execute_result"
    }
   ],
   "source": [
    "# lambda functions: any number of arguments, only one expression\n",
    "\n",
    "mult = lambda x,y: x*y\n",
    "mult(3,4)"
   ]
  },
  {
   "cell_type": "code",
   "execution_count": 4,
   "metadata": {},
   "outputs": [],
   "source": [
    "# all python class attributes are public\n",
    "# _ prefix = protected \n",
    "# __ prefix = private\n",
    "\n",
    "# creating class with two attributes\n",
    "class MyClass(object):\n",
    "    \n",
    "    # method called when instance of class constructed\n",
    "    # arg2 is optional, has a default value if not given anything\n",
    "    def __init__(self, arg1, arg2='circle'):\n",
    "        # define attributes of class\n",
    "        self.color = arg1\n",
    "        self.shape = arg2\n",
    "    \n",
    "    def what_color(self):\n",
    "        return self.color"
   ]
  },
  {
   "cell_type": "code",
   "execution_count": 5,
   "metadata": {
    "collapsed": true
   },
   "outputs": [],
   "source": [
    "class MySecondClass(MyClass):\n",
    "    def __init__(self, arg1):\n",
    "        # call constructor for parent class\n",
    "        super(MySecondClass, self).__init__(arg1)"
   ]
  },
  {
   "cell_type": "code",
   "execution_count": 6,
   "metadata": {},
   "outputs": [
    {
     "name": "stdout",
     "output_type": "stream",
     "text": [
      "oval\n",
      "pink\n",
      "<class '__main__.MyClass'>\n"
     ]
    }
   ],
   "source": [
    "# create instance of class\n",
    "thing1 = MyClass('blue','oval')\n",
    "print(thing1.shape)\n",
    "\n",
    "# setting value of second attribute\n",
    "thing1.shape = 'square'\n",
    "\n",
    "uhm = thing1.what_color('pink')\n",
    "print(uhm)\n",
    "\n",
    "thing2 = MySecondClass(MyClass)\n",
    "print(thing2.color)"
   ]
  },
  {
   "cell_type": "code",
   "execution_count": null,
   "metadata": {},
   "outputs": [],
   "source": [
    "# organization into modules by splitting code into directories/files\n",
    "# in order to be recognized as module, need to contain file __init__.py\n",
    "\n",
    "# use import directive to access code from other modules\n",
    "import module_1.sub_module_1a"
   ]
  },
  {
   "cell_type": "code",
   "execution_count": 7,
   "metadata": {},
   "outputs": [
    {
     "data": {
      "text/plain": [
       "'values are 2 and 3.4'"
      ]
     },
     "execution_count": 7,
     "metadata": {},
     "output_type": "execute_result"
    }
   ],
   "source": [
    "# string formatting\n",
    "'{} {} and {}'.format('values are', 2, 3.4)"
   ]
  },
  {
   "cell_type": "code",
   "execution_count": 89,
   "metadata": {},
   "outputs": [],
   "source": [
    "import csv\n",
    "\n",
    "rows = ['i','like','cats','5','6']\n",
    "# write list of lists into csv file\n",
    "with open('eggs.csv','w') as file:\n",
    "    wr = csv.writer(file)\n",
    "    for row in rows:\n",
    "        wr.writerow(row)\n",
    "\n",
    "# read with row headings into a list of dictionaries\n",
    "with open('eggs.csv', 'r') as file:\n",
    "    reading = csv.DictReader(file)"
   ]
  },
  {
   "cell_type": "code",
   "execution_count": 8,
   "metadata": {},
   "outputs": [
    {
     "name": "stderr",
     "output_type": "stream",
     "text": [
      "C:\\ProgramData\\Anaconda3\\lib\\site-packages\\ipykernel_launcher.py:3: UserWarning: hi\n",
      "  This is separate from the ipykernel package so we can avoid doing imports until\n"
     ]
    }
   ],
   "source": [
    "import warnings\n",
    "# default category = UserWarning\n",
    "warnings.warn('hi')\n",
    "\n",
    "# ignore class of warnings\n",
    "warnings.simplefilter(\"ignore\", UserWarning)\n",
    "warnings.warn('bye')"
   ]
  },
  {
   "cell_type": "code",
   "execution_count": null,
   "metadata": {
    "collapsed": true
   },
   "outputs": [],
   "source": [
    "# create own category of warning\n",
    "# child class of UserWarning\n",
    "class MyWarning(UserWarning):\n",
    "        "
   ]
  },
  {
   "cell_type": "code",
   "execution_count": null,
   "metadata": {
    "collapsed": true
   },
   "outputs": [],
   "source": [
    "# issuing exception\n",
    "raise Exception('what')\n",
    "\n",
    "# define own exception\n",
    "class MyException(Exception):\n",
    "\n",
    "# handling exceptions\n",
    "try:\n",
    "    # code which raises exception?\n",
    "except:\n",
    "    # code to execute if try block raises exception\n",
    "# or    \n",
    "except Exception as exception:\n",
    "    # code if try block raises exception and exception is instance of Exception (issued above?)"
   ]
  },
  {
   "cell_type": "code",
   "execution_count": 19,
   "metadata": {},
   "outputs": [],
   "source": [
    "class RNA(object):\n",
    "    # a public dict variable(?)\n",
    "    translation_table = {\n",
    "        'TTT': 'F',\n",
    "        'CAT': 'H',\n",
    "        'ATG': 'M'\n",
    "    }\n",
    "    \n",
    "    def __init__(self,arg1):\n",
    "        self.seq = arg1\n",
    "    \n",
    "    # create dictionary where each set of three amino acids \n",
    "    def translate(self):\n",
    "        aa = ''\n",
    "        # assuming starts with ATG start codon\n",
    "        for i in range(int(len(self.seq)/3)):\n",
    "            aa += self.translation_table[self.seq[3*i:3*i + 3]];\n",
    "        return aa"
   ]
  },
  {
   "cell_type": "code",
   "execution_count": 27,
   "metadata": {},
   "outputs": [
    {
     "name": "stdout",
     "output_type": "stream",
     "text": [
      "MFH\n"
     ]
    }
   ],
   "source": [
    "myrna = RNA('ATGTTTCAT')\n",
    "# to make surethat's right\n",
    "assert myrna.translate()[0] == 'M'\n",
    "print(myrna.translate())"
   ]
  },
  {
   "cell_type": "code",
   "execution_count": 38,
   "metadata": {},
   "outputs": [
    {
     "name": "stdout",
     "output_type": "stream",
     "text": [
      "[[ 0  4 18]\n",
      " [ 7  3  0]]\n",
      "[[  1.   4.   9.]\n",
      " [ 49.   9.   0.]]\n"
     ]
    }
   ],
   "source": [
    "import numpy as np\n",
    "\n",
    "arr1 = np.array([[1,2,3],[7,3,0]])\n",
    "arr2 = np.array([[0,2,6],[1,1,1]])\n",
    "\n",
    "# element-wise multiplication\n",
    "print(arr1 * arr2)\n",
    "\n",
    "# matrix multiplication\n",
    "print(arr1 ** 2.)"
   ]
  },
  {
   "cell_type": "code",
   "execution_count": 84,
   "metadata": {},
   "outputs": [
    {
     "name": "stdout",
     "output_type": "stream",
     "text": [
      "(3, 2)\n",
      "[[ 0.15605209  0.89377625  0.09843849]\n",
      " [ 0.01666356  0.75121782  0.83081665]]\n",
      "[[ 0.15605209  0.01666356]\n",
      " [ 0.89377625  0.75121782]\n",
      " [ 0.09843849  0.83081665]]\n",
      "[[ 0.  0.]\n",
      " [ 1.  1.]\n",
      " [ 0.  1.]]\n",
      "10.5\n"
     ]
    }
   ],
   "source": [
    "a = np.zeros((3,1))\n",
    "b = np.ones((3,1))\n",
    "c = np.concatenate((a,b),axis=1)\n",
    "print(np.shape(c))\n",
    "\n",
    "# matrix of random numbers\n",
    "d = np.random.rand(2,3)\n",
    "print(d)\n",
    "\n",
    "e = np.transpose(d)\n",
    "print(e)\n",
    "\n",
    "f = np.round(e)\n",
    "print(f)\n",
    "\n",
    "# matrix of random poisson-distributed values \n",
    "g = np.random.poisson(10,(2,3))\n",
    "print(g.mean())\n",
    "\n",
    "assert np.inf > 1e100"
   ]
  },
  {
   "cell_type": "code",
   "execution_count": null,
   "metadata": {
    "collapsed": true
   },
   "outputs": [],
   "source": []
  }
 ],
 "metadata": {
  "kernelspec": {
   "display_name": "Python 3",
   "language": "python",
   "name": "python3"
  },
  "language_info": {
   "codemirror_mode": {
    "name": "ipython",
    "version": 3
   },
   "file_extension": ".py",
   "mimetype": "text/x-python",
   "name": "python",
   "nbconvert_exporter": "python",
   "pygments_lexer": "ipython3",
   "version": "3.6.3"
  }
 },
 "nbformat": 4,
 "nbformat_minor": 2
}
